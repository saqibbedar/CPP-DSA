{
 "cells": [
  {
   "cell_type": "markdown",
   "metadata": {},
   "source": [
    "# Selection Sort Tracing\n",
    "Please ignore print statements in selection sort as they are used to for tracing of selection sort so see output only and for code implementation check SelectionSort.cpp"
   ]
  },
  {
   "cell_type": "code",
   "execution_count": 1,
   "metadata": {},
   "outputs": [
    {
     "name": "stdout",
     "output_type": "stream",
     "text": [
      "Given Array/List: [5, 4, 3, 2, 1]\n",
      "\n",
      "Iteration 1 (i = 0) \n",
      "\n",
      "min_index = 0\n",
      "Compare a[1](4) with a[0](5): min_index = 0\n",
      "Compare a[2](3) with a[1](4): min_index = 1\n",
      "Compare a[3](2) with a[2](3): min_index = 2\n",
      "Compare a[4](1) with a[3](2): min_index = 3\n",
      "Swap a[0] with a[min_index](4)\n",
      "[1, 4, 3, 2, 5]\n",
      "\n",
      "Iteration 2 (i = 1) \n",
      "\n",
      "min_index = 1\n",
      "Compare a[2](3) with a[1](4): min_index = 1\n",
      "Compare a[3](2) with a[2](3): min_index = 2\n",
      "Compare a[4](5) with a[3](2): min_index = 3\n",
      "Swap a[1] with a[min_index](3)\n",
      "[1, 2, 3, 4, 5]\n",
      "\n",
      "Iteration 3 (i = 2) \n",
      "\n",
      "min_index = 2\n",
      "Compare a[3](4) with a[2](3): min_index = 2\n",
      "Compare a[4](5) with a[2](3): min_index = 2\n",
      "\n",
      "Iteration 4 (i = 3) \n",
      "\n",
      "min_index = 3\n",
      "Compare a[4](5) with a[3](4): min_index = 3\n",
      "\n",
      "Sorted Array: [1, 2, 3, 4, 5]\n"
     ]
    }
   ],
   "source": [
    "# Selection sort implementation\n",
    "def selection_sort(a):\n",
    "    SIZE = len(a)\n",
    "    for i in range(SIZE - 1):\n",
    "        print(f\"\\nIteration {i+1} (i = {i}) \\n\")\n",
    "        min_index = i\n",
    "        print(f\"min_index = {min_index}\")\n",
    "        for j in range(i + 1, SIZE):\n",
    "            print(f\"Compare a[{j}]({a[j]}) with a[{min_index}]({a[min_index]}): min_index = {min_index}\")\n",
    "            if a[j] < a[min_index]:\n",
    "                min_index = j\n",
    "        if a[i] > a[min_index]:\n",
    "            a[i], a[min_index] = a[min_index], a[i]\n",
    "            print(f\"Swap a[{i}] with a[min_index]({min_index})\")\n",
    "            print(a)\n",
    "\n",
    "    print(f\"\\nSorted Array: {a}\")\n",
    "\n",
    "if __name__ == \"__main__\":\n",
    "    a = [5, 4, 3, 2, 1]\n",
    "    print(f\"Given Array/List: {a}\")\n",
    "    selection_sort(a)"
   ]
  }
 ],
 "metadata": {
  "kernelspec": {
   "display_name": "Python 3",
   "language": "python",
   "name": "python3"
  },
  "language_info": {
   "codemirror_mode": {
    "name": "ipython",
    "version": 3
   },
   "file_extension": ".py",
   "mimetype": "text/x-python",
   "name": "python",
   "nbconvert_exporter": "python",
   "pygments_lexer": "ipython3",
   "version": "3.12.4"
  }
 },
 "nbformat": 4,
 "nbformat_minor": 2
}
